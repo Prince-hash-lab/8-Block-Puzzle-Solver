{
 "metadata": {
  "language_info": {
   "codemirror_mode": {
    "name": "ipython",
    "version": 3
   },
   "file_extension": ".py",
   "mimetype": "text/x-python",
   "name": "python",
   "nbconvert_exporter": "python",
   "pygments_lexer": "ipython3",
   "version": "3.9.4"
  },
  "orig_nbformat": 2,
  "kernelspec": {
   "name": "python394jvsc74a57bd0e0c2b470b05b85d9328f0bfc92f932b02465bf700fb35728a2085dcf08f20262",
   "display_name": "Python 3.9.4 64-bit"
  },
  "metadata": {
   "interpreter": {
    "hash": "e0c2b470b05b85d9328f0bfc92f932b02465bf700fb35728a2085dcf08f20262"
   }
  }
 },
 "nbformat": 4,
 "nbformat_minor": 2,
 "cells": [
  {
   "cell_type": "code",
   "execution_count": null,
   "metadata": {},
   "outputs": [],
   "source": []
  },
  {
   "cell_type": "code",
   "execution_count": null,
   "metadata": {},
   "outputs": [],
   "source": []
  },
  {
   "source": [
    "# ASsignment 1\n"
   ],
   "cell_type": "markdown",
   "metadata": {}
  },
  {
   "source": [
    "##### question 1\n",
    "mth=[40,50,60,40,20,30,80,90,78,89]\n",
    "sci=[80,90,40,78,90,88,70,68,59,56]\n",
    "eng=[90,90,90,80,60,40,70,60,48,69]\n",
    "it=[20,100,65,47,28,38,86,94,34,90]\n",
    "print(max(mth))\n",
    "print(min(mth))\n",
    "print(max(sci))\n",
    "print(min(sci))\n",
    "print(max(eng))\n",
    "print(min(eng))\n",
    "print(max(it))\n",
    "print(min(it))\n",
    "def avg(list1):\n",
    "    return sum(list1)/len(list1)\n",
    "print(round(avg(mth),2))\n",
    "print(round(avg(sci),2))\n",
    "print(round(avg(eng),2))\n",
    "print(round(avg(it),2))\n",
    "\n",
    "std_total=[]\n",
    "for i in range(10):\n",
    "    std_total.append(mth[i]+sci[i]+eng[i]+it[i])\n",
    "print(max(std_total))\n",
    "print(min(std_total))\n",
    "print(round(avg(std_total),2))"
   ],
   "cell_type": "code",
   "metadata": {},
   "execution_count": 27,
   "outputs": [
    {
     "output_type": "stream",
     "name": "stdout",
     "text": [
      "90\n20\n90\n40\n90\n40\n100\n20\n57.7\n71.9\n69.7\n60.2\n330\n196\n259.5\n"
     ]
    }
   ]
  },
  {
   "cell_type": "code",
   "execution_count": 28,
   "metadata": {},
   "outputs": [
    {
     "output_type": "stream",
     "name": "stdout",
     "text": [
      "56250.0\n"
     ]
    }
   ],
   "source": [
    "\n",
    "##### question 2\n",
    "sal=int(input(\"enter the base salary : \"))\n",
    "# i have inputed 25000\n",
    "if sal<=10000 :\n",
    "    print(sal+((20/100) * sal)+((80/100) * sal))\n",
    "elif sal>10000 and sal<=20000:\n",
    "      print(sal+((25/100) * sal)+((90/100) * sal))\n",
    "else:\n",
    "      print(sal+((30/100) * sal)+((95/100) * sal))\n"
   ]
  },
  {
   "cell_type": "code",
   "execution_count": 31,
   "metadata": {},
   "outputs": [
    {
     "output_type": "stream",
     "name": "stdout",
     "text": [
      " invalid password\n"
     ]
    }
   ],
   "source": [
    "\n",
    "##### question 3\n",
    "# ((30/100) * sal)+((95/100) * sal))\n",
    "paswd=input(\"enter the password : \") \n",
    "import re\n",
    "valid=1\n",
    "if not re.search(\"[a-z]\",paswd):\n",
    "    valid=0\n",
    "if not re.search(\"[A-Z]\",paswd):\n",
    "    valid=0\n",
    "if not re.search(\"[0-9]\",paswd):\n",
    "    valid=0\n",
    "if not re.search(\"[$#@]\",paswd):\n",
    "    valid=0\n",
    "if not len(paswd)>=6 :\n",
    "    valid=0\n",
    "if not len(paswd)<=16:\n",
    "    valid=0\n",
    "if valid==1:\n",
    "    print(\" valid password\")\n",
    "else:\n",
    "    print(\" invalid password\")\n"
   ]
  },
  {
   "cell_type": "code",
   "execution_count": null,
   "metadata": {},
   "outputs": [],
   "source": [
    "\n",
    "##### question 4\n",
    "lt= [10, 20, 30, 40, 50, 60, 70, 80]\n",
    "lt.append(200)\n",
    "lt.append(300)\n",
    "lt.remove(10)\n",
    "lt.remove(30)\n",
    "lt.sort(reverse=True)\n",
    "print(lt)\n",
    "lt.sort()\n",
    "print(lt)"
   ]
  },
  {
   "cell_type": "code",
   "execution_count": null,
   "metadata": {},
   "outputs": [],
   "source": [
    "#ans 5\n",
    "D= {1:'One', 2:'Two', 3:'Three', 4: 'Four', 5:'Five'}\n",
    "D[6]='six'\n",
    "del D[2]\n",
    "print(D)\n",
    "if 6 in D:\n",
    "    print (\"yes present\")\n",
    "else :\n",
    "    print (\"not present\")\n",
    "#calculating number of elements\n",
    "count=0\n",
    "for i in D:\n",
    "    count=count+1\n",
    "print(count)\n",
    "#calculating sum of elements\n",
    "count=0\n",
    "for i in D:\n",
    "    count+=i\n",
    "print(count)"
   ]
  },
  {
   "cell_type": "code",
   "execution_count": 30,
   "metadata": {},
   "outputs": [
    {
     "output_type": "stream",
     "name": "stdout",
     "text": [
      "[352, 390, 676, 124, 740, 826, 264, 602, 336, 282, 836, 818, 144, 520, 468, 656, 782, 242, 306, 322]\n[393, 103, 229, 785, 619, 867, 895, 581, 329, 273, 263, 273, 485, 843, 163, 781, 513, 791, 203, 669]\n[757, 109, 347, 739, 541, 823, 277, 487, 179, 157, 659, 109, 673, 617, 139, 277, 773, 349, 631, 311, 131, 283, 499, 433, 431, 389, 653, 313, 509, 397, 661, 283, 811, 263, 127, 487, 127, 401, 173, 683]\n20\n40\n20\n"
     ]
    }
   ],
   "source": [
    "#ans 6\n",
    "import random as ra\n",
    "lt=[ra.randrange(100,900,2) for i in range(20) ]\n",
    "\n",
    "lt2=[ra.randrange(101,899,2) for i in range(20) ]\n",
    "\n",
    "def printprime(x,y):\n",
    "    lt=[]\n",
    "    for i in range(x,y):\n",
    "        flag=0\n",
    "        for j in range(2,i):\n",
    "            if  i%j==0:\n",
    "                flag=1\n",
    "        if flag==0:\n",
    "            lt.append(i)\n",
    "    return lt\n",
    "lt1=[]\n",
    "for i in range(40):\n",
    "    lt1.append(ra.choice(printprime(100,900)))\n",
    "\n",
    "print(lt)\n",
    "print(lt2)\n",
    "print(lt1)\n",
    "print(len(lt))\n",
    "print(len(lt1))\n",
    "print(len(lt2))"
   ]
  },
  {
   "cell_type": "code",
   "execution_count": null,
   "metadata": {},
   "outputs": [],
   "source": [
    "#ans 7   \n",
    "#function in func.py file\n",
    "#def fun(pa,itr,time):\n",
    "#   return pa*(1+(itr*time))\n",
    "    \n",
    "import func as fn\n",
    "print(fn.fun(1000,23,24))"
   ]
  },
  {
   "cell_type": "code",
   "execution_count": 29,
   "metadata": {},
   "outputs": [
    {
     "output_type": "stream",
     "name": "stdout",
     "text": [
      " restaurant name is  motel 5 star \n cuisine type  is  Dal Makani\nrestaurant is open \nmotel 5 star \nDal Makani\n"
     ]
    }
   ],
   "source": [
    "# ans 8 (a)\n",
    "class restaurant():\n",
    "    def __init__(self,rest_name,cuis_type):\n",
    "        self.rest_name=rest_name\n",
    "        self.cuis_type=cuis_type\n",
    "    def des_rest(self):\n",
    "        print(\" restaurant name is \",self.rest_name)\n",
    "        print(\" cuisine type  is \",self.cuis_type)\n",
    "    def open_rest(self):\n",
    "        print(\"restaurant is open \")\n",
    "rest=restaurant('motel 5 star ','Dal Makani')\n",
    "\n",
    "rest.des_rest()\n",
    "rest.open_rest()\n",
    "print(rest.rest_name)\n",
    "print(rest.cuis_type)"
   ]
  },
  {
   "cell_type": "code",
   "execution_count": 32,
   "metadata": {},
   "outputs": [
    {
     "output_type": "stream",
     "name": "stdout",
     "text": [
      "shivom\nchawla\n939230342\nkon@gmail.com\nharyana  punjab\n hello  shivom   chawla\nprince\n\n9392689632\npc@gmail.com\nharyana and punjab\n hello  prince   \nvatsal\nnanda\n93923342532\nvats@gmail.com\nharyana and punjab\n hello  vatsal   nanda\nvaishant\nmkn\n932345242\nmkn@gmail.com\nharyana  punjab\n hello  vaishant   mkn\nujjwal\nmadaan\n93923452932\nujjwl@gmail.com\nharyana and punjab\n hello  ujjwal   madaan\n"
     ]
    }
   ],
   "source": [
    "# question 8 (b)\n",
    "class user:\n",
    "    def __init__(self,f_name,l_name,phone,email,add):\n",
    "        self.f_name=f_name\n",
    "        self.l_name=l_name\n",
    "        self.phone=phone\n",
    "        self.email=email\n",
    "        self.add=add\n",
    "    def describe_user(self):\n",
    "        print(self.f_name)\n",
    "        print(self.l_name)\n",
    "        print(self.phone)\n",
    "        print(self.email)\n",
    "        print(self.add)\n",
    "    def greet_user(self):\n",
    "        print(\" hello \",self.f_name,\" \",self.l_name)\n",
    "\n",
    "a=user(\"shivom\",\"chawla\",939230342,\"kon@gmail.com\",\"haryana  punjab\")\n",
    "c=user(\"vatsal\",\"nanda\",93923342532,\"vats@gmail.com\",\"haryana and punjab\")\n",
    "e=user(\"ujjwal\",\"madaan\",93923452932,\"ujjwl@gmail.com\",\"haryana and punjab\")\n",
    "d=user(\"vaishant\",\"mkn\",932345242,\"mkn@gmail.com\",\"haryana  punjab\")\n",
    "b=user(\"prince\",\"\",9392689632,\"pc@gmail.com\",\"haryana and punjab\")\n",
    "a.describe_user()\n",
    "a.greet_user()\n",
    "b.describe_user()\n",
    "b.greet_user()\n",
    "c.describe_user()\n",
    "c.greet_user()\n",
    "d.describe_user()\n",
    "d.greet_user()\n",
    "e.describe_user()\n",
    "e.greet_user()"
   ]
  },
  {
   "cell_type": "code",
   "execution_count": 39,
   "metadata": {},
   "outputs": [],
   "source": [
    "import sqlite3"
   ]
  },
  {
   "cell_type": "code",
   "execution_count": 40,
   "metadata": {},
   "outputs": [],
   "source": [
    "import pandas as pd"
   ]
  },
  {
   "cell_type": "code",
   "execution_count": 45,
   "metadata": {},
   "outputs": [],
   "source": [
    "create=\"\"\" create table emp(id integer,name integer);\"\"\""
   ]
  },
  {
   "cell_type": "code",
   "execution_count": 46,
   "metadata": {},
   "outputs": [],
   "source": [
    "exes=sqlite3.connect(':memory:')\n",
    "exes.execute(create)\n",
    "exes.commit()"
   ]
  },
  {
   "cell_type": "code",
   "execution_count": 54,
   "metadata": {},
   "outputs": [],
   "source": [
    "sq=exes.execute('select * from emp')"
   ]
  },
  {
   "cell_type": "code",
   "execution_count": 55,
   "metadata": {},
   "outputs": [],
   "source": [
    "res=sq.fetchall()"
   ]
  },
  {
   "cell_type": "code",
   "execution_count": 56,
   "metadata": {},
   "outputs": [
    {
     "output_type": "execute_result",
     "data": {
      "text/plain": [
       "[(12, 4), (13, 2)]"
      ]
     },
     "metadata": {},
     "execution_count": 56
    }
   ],
   "source": [
    "res"
   ]
  },
  {
   "cell_type": "code",
   "execution_count": 50,
   "metadata": {},
   "outputs": [],
   "source": [
    "ins=[(12,4),(13,2)]"
   ]
  },
  {
   "cell_type": "code",
   "execution_count": 51,
   "metadata": {},
   "outputs": [],
   "source": [
    "inrt=\"insert into emp values(?,?);\"\n",
    "exes.executemany(inrt,ins)\n",
    "exes.commit()"
   ]
  },
  {
   "cell_type": "code",
   "execution_count": 57,
   "metadata": {},
   "outputs": [],
   "source": [
    "dff=pd.DataFrame(res)"
   ]
  },
  {
   "cell_type": "code",
   "execution_count": 58,
   "metadata": {},
   "outputs": [
    {
     "output_type": "execute_result",
     "data": {
      "text/plain": [
       "    0  1\n",
       "0  12  4\n",
       "1  13  2"
      ],
      "text/html": "<div>\n<style scoped>\n    .dataframe tbody tr th:only-of-type {\n        vertical-align: middle;\n    }\n\n    .dataframe tbody tr th {\n        vertical-align: top;\n    }\n\n    .dataframe thead th {\n        text-align: right;\n    }\n</style>\n<table border=\"1\" class=\"dataframe\">\n  <thead>\n    <tr style=\"text-align: right;\">\n      <th></th>\n      <th>0</th>\n      <th>1</th>\n    </tr>\n  </thead>\n  <tbody>\n    <tr>\n      <th>0</th>\n      <td>12</td>\n      <td>4</td>\n    </tr>\n    <tr>\n      <th>1</th>\n      <td>13</td>\n      <td>2</td>\n    </tr>\n  </tbody>\n</table>\n</div>"
     },
     "metadata": {},
     "execution_count": 58
    }
   ],
   "source": [
    "dff"
   ]
  },
  {
   "source": [
    "import matplotlib.pyplot as plt"
   ],
   "cell_type": "code",
   "metadata": {},
   "execution_count": 59,
   "outputs": [
    {
     "output_type": "error",
     "ename": "ModuleNotFoundError",
     "evalue": "No module named 'matplotlib'",
     "traceback": [
      "\u001b[1;31m---------------------------------------------------------------------------\u001b[0m",
      "\u001b[1;31mModuleNotFoundError\u001b[0m                       Traceback (most recent call last)",
      "\u001b[1;32m<ipython-input-59-a0d2faabd9e9>\u001b[0m in \u001b[0;36m<module>\u001b[1;34m\u001b[0m\n\u001b[1;32m----> 1\u001b[1;33m \u001b[1;32mimport\u001b[0m \u001b[0mmatplotlib\u001b[0m\u001b[1;33m.\u001b[0m\u001b[0mpyplot\u001b[0m \u001b[1;32mas\u001b[0m \u001b[0mplt\u001b[0m\u001b[1;33m\u001b[0m\u001b[1;33m\u001b[0m\u001b[0m\n\u001b[0m",
      "\u001b[1;31mModuleNotFoundError\u001b[0m: No module named 'matplotlib'"
     ]
    }
   ]
  },
  {
   "cell_type": "code",
   "execution_count": 61,
   "metadata": {},
   "outputs": [
    {
     "output_type": "error",
     "ename": "ModuleNotFoundError",
     "evalue": "No module named 'matplotlib'",
     "traceback": [
      "\u001b[1;31m---------------------------------------------------------------------------\u001b[0m",
      "\u001b[1;31mModuleNotFoundError\u001b[0m                       Traceback (most recent call last)",
      "\u001b[1;32m<ipython-input-61-1cc53834ed09>\u001b[0m in \u001b[0;36m<module>\u001b[1;34m\u001b[0m\n\u001b[1;32m----> 1\u001b[1;33m \u001b[1;32mimport\u001b[0m \u001b[0mmatplotlib\u001b[0m \u001b[1;32mas\u001b[0m \u001b[0mmt\u001b[0m\u001b[1;33m\u001b[0m\u001b[1;33m\u001b[0m\u001b[0m\n\u001b[0m",
      "\u001b[1;31mModuleNotFoundError\u001b[0m: No module named 'matplotlib'"
     ]
    }
   ],
   "source": [
    "import matplotlib as mt"
   ]
  },
  {
   "cell_type": "code",
   "execution_count": 77,
   "metadata": {},
   "outputs": [
    {
     "output_type": "error",
     "ename": "ImportError",
     "evalue": "matplotlib is required for plotting when the default backend \"matplotlib\" is selected.",
     "traceback": [
      "\u001b[1;31m---------------------------------------------------------------------------\u001b[0m",
      "\u001b[1;31mImportError\u001b[0m                               Traceback (most recent call last)",
      "\u001b[1;32m<ipython-input-77-e288f208d834>\u001b[0m in \u001b[0;36m<module>\u001b[1;34m\u001b[0m\n\u001b[1;32m----> 1\u001b[1;33m \u001b[0mdff\u001b[0m\u001b[1;33m.\u001b[0m\u001b[0mplot\u001b[0m\u001b[1;33m(\u001b[0m\u001b[0mx\u001b[0m\u001b[1;33m=\u001b[0m\u001b[0mdff\u001b[0m\u001b[1;33m[\u001b[0m\u001b[1;36m0\u001b[0m\u001b[1;33m]\u001b[0m\u001b[1;33m,\u001b[0m\u001b[0my\u001b[0m\u001b[1;33m=\u001b[0m\u001b[0mdff\u001b[0m\u001b[1;33m[\u001b[0m\u001b[1;36m1\u001b[0m\u001b[1;33m]\u001b[0m\u001b[1;33m,\u001b[0m\u001b[0mkind\u001b[0m\u001b[1;33m=\u001b[0m\u001b[1;34m'scatter'\u001b[0m\u001b[1;33m)\u001b[0m\u001b[1;33m\u001b[0m\u001b[1;33m\u001b[0m\u001b[0m\n\u001b[0m",
      "\u001b[1;32m~\\AppData\\Local\\Programs\\Python\\Python39\\lib\\site-packages\\pandas\\plotting\\_core.py\u001b[0m in \u001b[0;36m__call__\u001b[1;34m(self, *args, **kwargs)\u001b[0m\n\u001b[0;32m    873\u001b[0m \u001b[1;33m\u001b[0m\u001b[0m\n\u001b[0;32m    874\u001b[0m     \u001b[1;32mdef\u001b[0m \u001b[0m__call__\u001b[0m\u001b[1;33m(\u001b[0m\u001b[0mself\u001b[0m\u001b[1;33m,\u001b[0m \u001b[1;33m*\u001b[0m\u001b[0margs\u001b[0m\u001b[1;33m,\u001b[0m \u001b[1;33m**\u001b[0m\u001b[0mkwargs\u001b[0m\u001b[1;33m)\u001b[0m\u001b[1;33m:\u001b[0m\u001b[1;33m\u001b[0m\u001b[1;33m\u001b[0m\u001b[0m\n\u001b[1;32m--> 875\u001b[1;33m         \u001b[0mplot_backend\u001b[0m \u001b[1;33m=\u001b[0m \u001b[0m_get_plot_backend\u001b[0m\u001b[1;33m(\u001b[0m\u001b[0mkwargs\u001b[0m\u001b[1;33m.\u001b[0m\u001b[0mpop\u001b[0m\u001b[1;33m(\u001b[0m\u001b[1;34m\"backend\"\u001b[0m\u001b[1;33m,\u001b[0m \u001b[1;32mNone\u001b[0m\u001b[1;33m)\u001b[0m\u001b[1;33m)\u001b[0m\u001b[1;33m\u001b[0m\u001b[1;33m\u001b[0m\u001b[0m\n\u001b[0m\u001b[0;32m    876\u001b[0m \u001b[1;33m\u001b[0m\u001b[0m\n\u001b[0;32m    877\u001b[0m         x, y, kind, kwargs = self._get_call_args(\n",
      "\u001b[1;32m~\\AppData\\Local\\Programs\\Python\\Python39\\lib\\site-packages\\pandas\\plotting\\_core.py\u001b[0m in \u001b[0;36m_get_plot_backend\u001b[1;34m(backend)\u001b[0m\n\u001b[0;32m   1784\u001b[0m             \u001b[1;32mimport\u001b[0m \u001b[0mpandas\u001b[0m\u001b[1;33m.\u001b[0m\u001b[0mplotting\u001b[0m\u001b[1;33m.\u001b[0m\u001b[0m_matplotlib\u001b[0m \u001b[1;32mas\u001b[0m \u001b[0mmodule\u001b[0m\u001b[1;33m\u001b[0m\u001b[1;33m\u001b[0m\u001b[0m\n\u001b[0;32m   1785\u001b[0m         \u001b[1;32mexcept\u001b[0m \u001b[0mImportError\u001b[0m\u001b[1;33m:\u001b[0m\u001b[1;33m\u001b[0m\u001b[1;33m\u001b[0m\u001b[0m\n\u001b[1;32m-> 1786\u001b[1;33m             raise ImportError(\n\u001b[0m\u001b[0;32m   1787\u001b[0m                 \u001b[1;34m\"matplotlib is required for plotting when the \"\u001b[0m\u001b[1;33m\u001b[0m\u001b[1;33m\u001b[0m\u001b[0m\n\u001b[0;32m   1788\u001b[0m                 \u001b[1;34m'default backend \"matplotlib\" is selected.'\u001b[0m\u001b[1;33m\u001b[0m\u001b[1;33m\u001b[0m\u001b[0m\n",
      "\u001b[1;31mImportError\u001b[0m: matplotlib is required for plotting when the default backend \"matplotlib\" is selected."
     ]
    }
   ],
   "source": [
    "dff.plot(x=dff[0],y=dff[1],kind='scatter')"
   ]
  },
  {
   "cell_type": "code",
   "execution_count": 62,
   "metadata": {},
   "outputs": [
    {
     "output_type": "stream",
     "name": "stdout",
     "text": [
      "Requirement already satisfied: matplotlib in c:\\users\\my pc\\anaconda3\\lib\\site-packages (3.3.2)\nRequirement already satisfied: pillow>=6.2.0 in c:\\users\\my pc\\anaconda3\\lib\\site-packages (from matplotlib) (8.0.1)\nRequirement already satisfied: pyparsing!=2.0.4,!=2.1.2,!=2.1.6,>=2.0.3 in c:\\users\\my pc\\anaconda3\\lib\\site-packages (from matplotlib) (2.4.7)\nRequirement already satisfied: kiwisolver>=1.0.1 in c:\\users\\my pc\\anaconda3\\lib\\site-packages (from matplotlib) (1.3.0)\nRequirement already satisfied: numpy>=1.15 in c:\\users\\my pc\\anaconda3\\lib\\site-packages (from matplotlib) (1.19.2)\nRequirement already satisfied: certifi>=2020.06.20 in c:\\users\\my pc\\anaconda3\\lib\\site-packages (from matplotlib) (2020.6.20)\nRequirement already satisfied: python-dateutil>=2.1 in c:\\users\\my pc\\anaconda3\\lib\\site-packages (from matplotlib) (2.8.1)\nRequirement already satisfied: cycler>=0.10 in c:\\users\\my pc\\anaconda3\\lib\\site-packages (from matplotlib) (0.10.0)\nRequirement already satisfied: six>=1.5 in c:\\users\\my pc\\anaconda3\\lib\\site-packages (from python-dateutil>=2.1->matplotlib) (1.15.0)\n"
     ]
    }
   ],
   "source": [
    "!pip install matplotlib\n"
   ]
  },
  {
   "cell_type": "code",
   "execution_count": null,
   "metadata": {},
   "outputs": [],
   "source": []
  }
 ]
}