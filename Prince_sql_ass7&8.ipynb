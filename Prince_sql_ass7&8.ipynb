{
 "metadata": {
  "language_info": {
   "codemirror_mode": {
    "name": "ipython",
    "version": 3
   },
   "file_extension": ".py",
   "mimetype": "text/x-python",
   "name": "python",
   "nbconvert_exporter": "python",
   "pygments_lexer": "ipython3",
   "version": "3.9.4"
  },
  "orig_nbformat": 2,
  "kernelspec": {
   "name": "python394jvsc74a57bd0e0c2b470b05b85d9328f0bfc92f932b02465bf700fb35728a2085dcf08f20262",
   "display_name": "Python 3.9.4 64-bit"
  },
  "metadata": {
   "interpreter": {
    "hash": "e0c2b470b05b85d9328f0bfc92f932b02465bf700fb35728a2085dcf08f20262"
   }
  }
 },
 "nbformat": 4,
 "nbformat_minor": 2,
 "cells": [
  {
   "source": [
    "#Prince\n",
    "#101916056\n",
    "#2cs10\n",
    "#assignment 7"
   ],
   "cell_type": "markdown",
   "metadata": {}
  },
  {
   "cell_type": "code",
   "execution_count": null,
   "metadata": {},
   "outputs": [],
   "source": [
    "CREATE TABLE Salespeople \n",
    "( \n",
    "  snum   integer PRIMARY KEY, \n",
    "  sname CHAR(10) unique, \n",
    "  city      CHAR(10), \n",
    "  comm  NUMBER(10,2) \n",
    ");\n",
    "CREATE TABLE Customers \n",
    "( \n",
    "  cnum   integer PRIMARY KEY, \n",
    "  cname char(10) , \n",
    "  city      CHAR(10) not null, \n",
    "  snum integer REFERENCES Salespeople \n",
    ");\n",
    "CREATE TABLE orders \n",
    "( \n",
    "  onum   integer PRIMARY KEY, \n",
    "  amt      DECIMAL, \n",
    "  odate   DATE NOT NULL, \n",
    "  cnum   INTEGER , \n",
    "  snum   INTEGER , \n",
    "  FOREIGN KEY (snum) REFERENCES Salespeople, \n",
    "  FOREIGN KEY (cnum) REFERENCES Customers \n",
    ");\n",
    "INSERT INTO Salespeople VALUES (1001,'Peel','London',.12);\n",
    "INSERT INTO Salespeople VALUES (1002,'Serres','Sanjose',.13);\n",
    "INSERT INTO Salespeople VALUES (1004,'Motika','Landon',.11);\n",
    "INSERT INTO Salespeople VALUES (1007,'Rifkin','Barcelona',.15);\n",
    "INSERT INTO Salespeople VALUES (1003,'Axelrod','Newyork',.10);\n",
    "INSERT INTO Salespeople VALUES (1009,'Rafale','Barcelona',.15);\n",
    "INSERT INTO Salespeople VALUES (1008,'Axe','Newyork',.10);\n",
    "INSERT INTO Salespeople VALUES (1011,'chapsi','Newyork',.11);\n",
    "INSERT INTO Customers VALUES (2001,'Hoffman','London',1001);\n",
    "INSERT INTO Customers  VALUES (2002,'Giovanni','Rome',1003);\n",
    "INSERT INTO Customers VALUES (2003,'Liu','Sanjose',1002);\n",
    "INSERT INTO Customers  VALUES (2004,'Grass','Berlin',1002);\n",
    "\n",
    "INSERT INTO Customers VALUES (2006,'clements','London',1001);\n",
    "INSERT INTO Customers  VALUES (2008,'Cisneros','Sanjose',1007);\n",
    "INSERT INTO Customers VALUES (2007,'Pereira','Rome',1004);\n",
    "select * from Customers;\n",
    "INSERT INTO orders VALUES (3001,18.69,'3-10-1990',2008,1007);\n",
    "INSERT INTO orders VALUES (3003,767.19,'3-10-1990',2001,1001);\n",
    "INSERT INTO orders VALUES (3002,1900.10,'3-10-1990',2007,1004);\n",
    "\n",
    "INSERT INTO orders VALUES (3005,5160.45,'3-oct-1990',2003,1002);\n",
    "INSERT INTO orders VALUES (3006,1098.16,'3-oct-1990',2008,1007);\n",
    "INSERT INTO orders VALUES (3009,1713.23,'4-oct-1990',2002,1003);\n",
    "INSERT INTO orders VALUES (3007,75.75,'4-oct-1990',2004,1002);\n",
    "INSERT INTO orders VALUES (3008,4273.00,'5-oct-1990',2006,1001);\n",
    "INSERT INTO orders VALUES (3010,1309.95,'6-oct-1990',2004,1002);\n",
    "INSERT INTO orders VALUES (3011,9891.88,'6-oct-1990',2006,1001);\n",
    "\n",
    "INSERT INTO orders VALUES (300,5160.45,'3-oct-1990',2003,1002);\n",
    "select * from salespeople;\n",
    "select * from orders;\n",
    "select * from customers;"
   ]
  },
  {
   "cell_type": "code",
   "execution_count": null,
   "metadata": {},
   "outputs": [],
   "source": [
    "--q1\n",
    "--1) Count the number of Salesperson whose name begin with ‘a’/’A’.\n",
    "select count(*) from salespeople where sname like 'a%' or sname like 'A%';"
   ]
  },
  {
   "cell_type": "code",
   "execution_count": null,
   "metadata": {},
   "outputs": [],
   "source": [
    "\n",
    "--2) Display all the Salesperson whose all orders worth is more than Rs. 2000.\n",
    "--q2   next both queries are correct \n",
    "select sname from salespeople where snum in (select snum from orders group by snum having sum(amt)>2000);\n",
    "select distinct s.sname from salespeople s join orders o on (s.snum=o.snum) group by sname having sum(o.amt)>2000;"
   ]
  },
  {
   "cell_type": "code",
   "execution_count": null,
   "metadata": {},
   "outputs": [],
   "source": [
    "--q3\n",
    "--3) Count the number of Salesperson belonging to Newyork.\n",
    "select count(*) from salespeople where city='Newyork';"
   ]
  },
  {
   "cell_type": "code",
   "execution_count": null,
   "metadata": {},
   "outputs": [],
   "source": [
    "\n",
    "--4) Display the number of Salespeople belonging to Landon and belonging to Paris.\n",
    "--q4\n",
    "select count(*) from salespeople where city in ('Landon','Paris');"
   ]
  },
  {
   "cell_type": "code",
   "execution_count": null,
   "metadata": {},
   "outputs": [],
   "source": [
    "\n",
    "--5) Display the number of orders taken by each Salesperson and their date of orders.\n",
    "--q5\n",
    "select sum(select s.sname,o.snum,count(o.onum),o.odate from orders o full outer join salespeople s on (s.snum=o.snum) group by distinct s.sname,o.snum,o.odate) from salespeople group by sname;  --missing expression\n"
   ]
  },
  {
   "cell_type": "code",
   "execution_count": null,
   "metadata": {},
   "outputs": [],
   "source": [
    "\n",
    "--6) Write a query that counts the number of Salespeople registering orders for each day.\n",
    "--q6\n",
    "select odate,count(distinct snum)  from orders group by odate;"
   ]
  },
  {
   "cell_type": "code",
   "execution_count": null,
   "metadata": {},
   "outputs": [],
   "source": [
    "\n",
    "--7) Write a query that selects the first customer in alphabetical order ,  whose name begins with ‘G’.\n",
    "--q7\n",
    "select * from customers where cname like 'G%' order by cname FETCH FIRST 1 ROWS ONLY;"
   ]
  },
  {
   "cell_type": "code",
   "execution_count": null,
   "metadata": {},
   "outputs": [],
   "source": [
    "\n",
    "--8) Find out the largest orders for Snum 1002 & 1007.\n",
    "--q8\n",
    "select max(amt) from orders group by snum having snum in (1002,1007);"
   ]
  },
  {
   "cell_type": "code",
   "execution_count": null,
   "metadata": {},
   "outputs": [],
   "source": [
    "\n",
    "--9) Find out the maximum single order amount of a Salesperson over Rs. 3000 in a day.\n",
    "--q9\n",
    "select max(amt),snum from orders group by snum having amt>3000;"
   ]
  },
  {
   "cell_type": "code",
   "execution_count": null,
   "metadata": {},
   "outputs": [],
   "source": [
    "\n",
    "--10) Find out the no. of Salesperson who belongs to same city and  have same commission percentage.\n",
    "--q10  both queries are correct becuase group by( city, comm) is same as group by city, comm \n",
    "select * from salespeople;\n",
    "select count(*),city,comm from salespeople group by (city, comm);\n",
    "select city ,comm,count(city),count(comm) from salespeople group by city,comm having count(city)>1 and count(comm)>1;"
   ]
  },
  {
   "source": [
    "#Assignment 8"
   ],
   "cell_type": "markdown",
   "metadata": {}
  },
  {
   "cell_type": "code",
   "execution_count": null,
   "metadata": {},
   "outputs": [],
   "source": [
    "----------- q1 1-Find those salesperson name who live in any one of the city of customers\n",
    "--(do it both with sub-query and join)\n",
    "-- join\n",
    "select * from salespeople inner join  customers on  salespeople.city=customers.city;  --this is correct \n",
    "select distinct s1.snum,s1.sname from salespeople s1,customers c1 where s1.city=c1.city;   --this is also correct\n",
    "\n",
    "\n",
    "-- subquery\n",
    "select * from salespeople where city in (select city from customers);"
   ]
  },
  {
   "cell_type": "code",
   "execution_count": null,
   "metadata": {},
   "outputs": [],
   "source": [
    "\n",
    "---------------q2\n",
    "--2-Find those salesperson name,customers name who belong to any one of the \n",
    "--city of customers\n",
    "--(do it both with sub-query and join)\n",
    "-- subquery    मैंने एक कॉलम में आउटपुट प्राप्त करने के लिए यूनियन  का उपयोग और डुप्लिकेट को निकालने के लिए किया।\n",
    "select distinct c1.cname from salespeople s1 , customers c1 where s1.city = any(select city from customers)  union all\n",
    "select distinct s1.sname from salespeople s1 , customers c1 where s1.city = any(select city from customers);     \n",
    "\n",
    "\n",
    "--join  मैंने एक कॉलम में आउटपुट प्राप्त करने के लिए यूनियन का उपयोग किया।\n",
    "select s1.sname from salespeople s1,customers c1 where s1.city=c1.city  union  \n",
    "select c1.cname from salespeople s1,customers c1 where s1.city=c1.city;   "
   ]
  },
  {
   "cell_type": "code",
   "execution_count": null,
   "metadata": {},
   "outputs": [],
   "source": [
    "\n",
    "---------------q3\n",
    "--3-Find those salesperson name who belong to the city of their customer     --in this do we have to refer orders or not , i have done both \n",
    "--(do it both with sub-query and join)\n",
    "\n",
    "--join\n",
    "select distinct s1.snum, s1.sname from salespeople s1, customers c1 where s1.snum=c1.snum and s1.city=c1.city;\n",
    "-- if we have customers and salepeople as related in orders then \n",
    "\n",
    "SELECT distinct orders.snum\n",
    "FROM orders\n",
    "JOIN salespeople\n",
    "  ON orders.snum = salespeople.snum\n",
    "JOIN customers\n",
    "  ON orders.cnum=customers.cnum where salespeople.city=customers.city;\n",
    "--subquery\n",
    "select * from salespeople s1 where exists (select c1.snum from customers c1 where c1.city=s1.city);  --this is correlated but how to do with subquery simply  \n",
    "-- if we have customers and salepeople as related in orders then -- correct or not  but it is  giving right output\n",
    "select distinct s1.snum from salespeople s1 where s1.city in (select c1.city from customers c1 where c1.cnum in (select o1.cnum from orders o1 where o1.snum=s1.snum));  "
   ]
  },
  {
   "cell_type": "code",
   "execution_count": null,
   "metadata": {},
   "outputs": [],
   "source": [
    "\n",
    "---------------q4\n",
    "--4-Find those salesperson name who belong to the city of their customer\n",
    "--(do it with co-related sub-query)\n",
    "-- same as above"
   ]
  },
  {
   "cell_type": "code",
   "execution_count": null,
   "metadata": {},
   "outputs": [],
   "source": [
    "\n",
    "-----------------q5\n",
    "--5-Find those salesperson name,customer name where salesperson is \n",
    "--assigned/not assigned to any customer\n",
    "select s1.sname , c1.cname from salespeople s1 right outer join customers c1 on s1.snum =c1.snum ; \n",
    "--"
   ]
  },
  {
   "cell_type": "code",
   "execution_count": null,
   "metadata": {},
   "outputs": [],
   "source": [
    "\n",
    "----------------q6\n",
    "--6-Find those customer name who is not assigned to any salesperson\n",
    "\n",
    "INSERT INTO Customers VALUES (2012,'clements','London',null);\n",
    "select cname from customers where snum is null;"
   ]
  },
  {
   "cell_type": "code",
   "execution_count": null,
   "metadata": {},
   "outputs": [],
   "source": [
    "\n",
    "----------------q7\n",
    "--7-Find the highest order of each salesperson\n",
    "select max(amt),snum from orders group by snum ;\n"
   ]
  },
  {
   "cell_type": "code",
   "execution_count": null,
   "metadata": {},
   "outputs": [],
   "source": [
    "\n",
    "-----------------q8\n",
    "--8-Find the names of salesperson and their highest order\n",
    "select max(o1.amt),(select s2.sname from salespeople s2 where s2.snum=o1.snum ) from orders o1  join  salespeople s1 on o1.snum=s1.snum group by o1.snum ; --this is correct \n",
    "select s1.sname, (select max(o1.amt) from orders o1 group by o1.snum having o1.snum=s1.snum) from salespeople s1;   -- this is also correct "
   ]
  },
  {
   "cell_type": "code",
   "execution_count": null,
   "metadata": {},
   "outputs": [],
   "source": [
    "-----------------q9\n",
    "--9-Find those orders of salesperson which is more than his average orders\n",
    "\n",
    "select amt from orders where exists (select amt from orders group by snum having amt>avg(amt));  --i cannot use this beacause amt > avg(amt) not a group by expression \n",
    "select o1.amt from orders o1 where o1.amt> (select avg(o2.amt) from orders o2 group by o2.snum having o2.snum=o1.snum);   --this is correct \n"
   ]
  },
  {
   "cell_type": "code",
   "execution_count": null,
   "metadata": {},
   "outputs": [],
   "source": [
    "\n",
    "------------------q10\n",
    "--10-List those salesperson who has more than two customers.\n",
    "--(use all 3 methods)\n",
    "\n",
    "--  join\n",
    "-- joins + coorelated subqueries \n",
    "select count(c1.snum), (select s1.sname from salespeople s1 where s1.snum = c1.snum ) from customers c1 inner join salespeople s1 on s1.snum=c1.snum group by  c1.snum having count(c1.snum)>1;  --correct \n",
    "-- purely joins but not working --ज्वाइन कर लिया है लेकिन  काम नहीं कर रहा है यह क्वेरी हमारे साथ धोखा कर रही है \n",
    "select s1.sname from customers c1 inner join salespeople s1 on s1.snum=c1.snum group by  c1.snum having count(c1.snum)>1;     --यह काम क्यों नहीं कर रहा है \n",
    "-- purely joins   यह शुद्ध जुड़ाव है\n",
    "select s1.sname, count(s1.sname)  from salespeople s1 inner join customers c1 on s1.snum=c1.snum  group by s1.sname having count(s1.sname)>1;  --correct\n",
    "-- subquery   सबक्वेरी\n",
    "select * from salespeople where snum in (select snum from customers group by snum having count(snum)>1);\n",
    "--coorelated subquery   सहसंबद्ध सबक्वेरी\n",
    "select count(c1.snum), (select s1.sname from salespeople s1 where  s1.snum = c1.snum) from customers c1 group by (snum ) having count(c1.snum)>1;"
   ]
  },
  {
   "cell_type": "code",
   "execution_count": null,
   "metadata": {},
   "outputs": [],
   "source": []
  }
 ]
}