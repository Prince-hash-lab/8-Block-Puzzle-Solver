{
 "metadata": {
  "language_info": {
   "codemirror_mode": {
    "name": "ipython",
    "version": 3
   },
   "file_extension": ".py",
   "mimetype": "text/x-python",
   "name": "python",
   "nbconvert_exporter": "python",
   "pygments_lexer": "ipython3",
   "version": 3
  },
  "orig_nbformat": 2
 },
 "nbformat": 4,
 "nbformat_minor": 2,
 "cells": [
  {
   "source": [
    "# Assigment 1 PL/SQL\n",
    "## Prince 101916056 2cs10\n"
   ],
   "cell_type": "markdown",
   "metadata": {}
  },
  {
   "cell_type": "code",
   "execution_count": null,
   "metadata": {},
   "outputs": [],
   "source": [
    "--1) WAP to find the greatest of three numbers. \n",
    "# answer\n",
    "declare\n",
    "a number(4):=7;\n",
    "b number(4):=6;\n",
    "c number(4):=5;\n",
    "begin\n",
    "if a>=b and a>=c  then \n",
    "    dbms_output.put_line('greatest of all is ' || a);\n",
    "elsif b>=a and b>=c  then \n",
    "    dbms_output.put_line('greatest of all is ' || b);\n",
    "else \n",
    "    dbms_output.put_line('greatest of all is ' || c);\n",
    "end if;\n",
    "end;"
   ]
  },
  {
   "cell_type": "code",
   "execution_count": null,
   "metadata": {},
   "outputs": [],
   "source": [
    "--2) WAP to check whether number is odd or even. \n",
    "# answer\n",
    "declare\n",
    "a number(4):=7;\n",
    "begin\n",
    "if mod(a,2)=0  then \n",
    "    dbms_output.put_line(' number is even ');\n",
    "else \n",
    "    dbms_output.put_line(' number is odd ');\n",
    "end if;\n",
    "end;"
   ]
  },
  {
   "cell_type": "code",
   "execution_count": null,
   "metadata": {},
   "outputs": [],
   "source": [
    "--3) WAP to find the grade. Consider the following: \n",
    "-- Marks > 80 A grade \n",
    "--Marks >70 B grade \n",
    "--Marks >50 C grade \n",
    "--Marks > 40 D grade \n",
    "--Marks < 40 E grade \n",
    "# answer\n",
    "declare\n",
    "a number(3):=75;\n",
    "begin\n",
    "if a>=80  then \n",
    "    dbms_output.put_line('A grade ');\n",
    "elsif a>=70 and a<80  then \n",
    "    dbms_output.put_line('B grade ');\n",
    "elsif a>=50 and a<70  then \n",
    "    dbms_output.put_line('C grade ');\n",
    "elsif a>=40 and a<50  then \n",
    "    dbms_output.put_line('D grade ');\n",
    "else \n",
    "    dbms_output.put_line('E grade ');\n",
    "end if;\n",
    "end;\n"
   ]
  },
  {
   "cell_type": "code",
   "execution_count": null,
   "metadata": {},
   "outputs": [],
   "source": [
    "--4) WAP to print the table of a given number.(use for loop) \n",
    "# answer\n",
    "declare\n",
    "a number(4):=7;\n",
    "res number(4);\n",
    "begin\n",
    "for c in 1..10 loop\n",
    "    res:=a*c;\n",
    "    dbms_output.put_line(a||'x'||c||'='||res);\n",
    "end loop;\n",
    "end;"
   ]
  },
  {
   "cell_type": "code",
   "execution_count": null,
   "metadata": {},
   "outputs": [],
   "source": [
    "--5) WAP to find out the factorial of a given number.(use while loop) \n",
    "# answer\n",
    "declare\n",
    "a number(4):=7;\n",
    "res1 number(10):=1;\n",
    "begin\n",
    "    while a>=1 loop\n",
    "        res1:=res1*a;\n",
    "        a:=a-1;\n",
    "    end loop;\n",
    "    dbms_output.put_line(res1);\n",
    "end;"
   ]
  },
  {
   "cell_type": "code",
   "execution_count": null,
   "metadata": {},
   "outputs": [],
   "source": [
    "--6) WAP to find out the Fibonacci series.\n",
    "# answer\n",
    "declare\n",
    "a number(4):=7;\n",
    "res2 number(10);\n",
    "res1 number(10):=0;\n",
    "res number(10):=1;\n",
    "begin\n",
    "    dbms_output.put_line(res1);\n",
    "    dbms_output.put_line(res);\n",
    "    while a>=3 loop\n",
    "        res2:=res1+res;\n",
    "        dbms_output.put_line(res2);\n",
    "        res1:=res;\n",
    "        res:=res2;\n",
    "        a:=a-1;\n",
    "    end loop;\n",
    "end;"
   ]
  },
  {
   "cell_type": "code",
   "execution_count": null,
   "metadata": {},
   "outputs": [],
   "source": [
    "--7) WAP to find the reverse of a number(use exit when stement)\n",
    "# answer\n",
    "declare\n",
    "a number(4):=7;\n",
    "res2 number(10):=a;\n",
    "i number(10):=-1*a;\n",
    "begin\n",
    "   loop\n",
    "        exit when res2=i;\n",
    "        res2:=res2-1;\n",
    "   end loop;\n",
    "   dbms_output.put_line(res2);\n",
    "end;"
   ]
  },
  {
   "cell_type": "code",
   "execution_count": null,
   "metadata": {},
   "outputs": [],
   "source": [
    "--8) WAP to reverse a string.\n",
    "# answer\n",
    "declare\n",
    "str varchar(20):='Prince';\n",
    "rvstr  varchar(20);\n",
    "indx number(3);\n",
    "begin\n",
    "    indx:=length(str);\n",
    "    while indx>0 loop\n",
    "        rvstr:=rvstr || substr(str,indx,1);\n",
    "        indx:=indx-1;\n",
    "    end loop;\n",
    "     dbms_output.put_line(rvstr);\n",
    "end;"
   ]
  },
  {
   "source": [
    "# Assignment 2 PL/SQL"
   ],
   "cell_type": "markdown",
   "metadata": {}
  },
  {
   "cell_type": "code",
   "execution_count": null,
   "metadata": {},
   "outputs": [],
   "source": [
    "1. PL/SQL block to update total sal for empno 100. \n",
    "Eno,ename, bp,da,hra,total.\n",
    "# answer\n",
    "\n"
   ]
  },
  {
   "cell_type": "code",
   "execution_count": null,
   "metadata": {},
   "outputs": [],
   "source": [
    "2. PL/SQL block to calculate fine for rno 100\n",
    "Rno, bookno, doi, dor, fine\n",
    "Fine is rs 1 if days<7\n",
    "Fine is rs 2 if days<14 and >7\n",
    "Fine is rs 3 if days>14\n",
    "Amount mentioned is for each day.\n",
    "# answer\n"
   ]
  },
  {
   "cell_type": "code",
   "execution_count": null,
   "metadata": {},
   "outputs": [],
   "source": [
    "3. PL/SQL block that performs addition (+), subtraction (-), multiplication (*) and \n",
    "division (/) of two numbers as choice by the user.\n",
    "# answer\n",
    "\n"
   ]
  },
  {
   "cell_type": "code",
   "execution_count": null,
   "metadata": {},
   "outputs": [],
   "source": [
    "4. PL/SQL block to generate multiplication table for 3 to n.\n",
    "# answer\n",
    "declare\n",
    "n number(4):=7;\n",
    "res number(4);\n",
    "begin\n",
    "for a in 3..n loop\n",
    "    for c in 1..10 loop\n",
    "       res:=a*c;\n",
    "       dbms_output.put_line(a||'x'||c||'='||res);\n",
    "    end loop;\n",
    "end loop;\n",
    "end;\n"
   ]
  },
  {
   "cell_type": "code",
   "execution_count": null,
   "metadata": {},
   "outputs": [],
   "source": [
    "5. PL/SQL block to print 5, 10, 15,20 by using For Loop\n",
    "# answer\n",
    "\n",
    "begin\n",
    "    for i in 1..20 loop\n",
    "         if mod(i,5)=0 then \n",
    "           dbms_output.put_line(i);\n",
    "          end if;\n",
    "    end loop;\n",
    "end;\n"
   ]
  },
  {
   "cell_type": "code",
   "execution_count": null,
   "metadata": {},
   "outputs": [],
   "source": [
    "6. Pl/SQL block to display welcome message like good morning, good afternoon, \n",
    "good night depending on system time.\n",
    "# answer\n",
    "\n"
   ]
  },
  {
   "cell_type": "code",
   "execution_count": null,
   "metadata": {},
   "outputs": [],
   "source": [
    "7. WAP that calculate simple interest for principal 1000, time 2 years and rate of \n",
    "interest varies from 5 to 15. Store it in a table.\n",
    "Principal time rate interest\n",
    "# answer\n",
    "\n"
   ]
  }
 ]
}