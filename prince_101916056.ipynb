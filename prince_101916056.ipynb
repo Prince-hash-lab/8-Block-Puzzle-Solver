{
 "metadata": {
  "language_info": {
   "codemirror_mode": {
    "name": "ipython",
    "version": 3
   },
   "file_extension": ".py",
   "mimetype": "text/x-python",
   "name": "python",
   "nbconvert_exporter": "python",
   "pygments_lexer": "ipython3",
   "version": "3.9.4"
  },
  "orig_nbformat": 2,
  "kernelspec": {
   "name": "python394jvsc74a57bd0e0c2b470b05b85d9328f0bfc92f932b02465bf700fb35728a2085dcf08f20262",
   "display_name": "Python 3.9.4 64-bit"
  },
  "metadata": {
   "interpreter": {
    "hash": "e0c2b470b05b85d9328f0bfc92f932b02465bf700fb35728a2085dcf08f20262"
   }
  }
 },
 "nbformat": 4,
 "nbformat_minor": 2,
 "cells": [
  {
   "cell_type": "code",
   "execution_count": 17,
   "metadata": {},
   "outputs": [],
   "source": [
    "#Prince\n",
    "# 101916056\n",
    "#cs10\n",
    "class library:\n",
    "    def __init__(self,books,categories):\n",
    "        self.books=books\n",
    "        self.categories=categories\n",
    "    def displaycategories(self):\n",
    "        print( \" available categories are \")\n",
    "        for cat in self.categories:\n",
    "            print (cat)\n",
    "    def displaybooks(self):\n",
    "        print (\" available books are \")\n",
    "        for book in self.books:\n",
    "            print(book)\n",
    "    def addbookinlib(self, bookreturned):\n",
    "        self.books.append(bookreturned)\n",
    "        print(\" book returned is \",bookreturned)\n",
    "        print (\" thanks for receiving our services \")\n",
    "    def borrowbook(self,bookname):\n",
    "        if bookname not in self.books:\n",
    "            print (\" sorry book not available\")\n",
    "        else :\n",
    "            self.books.remove(bookname)\n",
    "            print (\" successfully borrowed book Thank You\")\n",
    "    "
   ]
  },
  {
   "cell_type": "code",
   "execution_count": 18,
   "metadata": {},
   "outputs": [],
   "source": [
    "\n",
    "class person:\n",
    "      def getbook(self):\n",
    "            self.book=input(\"Enter the name of book to borrow\")\n",
    "            return self.book\n",
    "\n",
    "      def returnbook(self):\n",
    "            self.book=input(\"name of book to be returned \")\n",
    "            return self.book"
   ]
  },
  {
   "cell_type": "code",
   "execution_count": 19,
   "metadata": {},
   "outputs": [],
   "source": [
    "def fun():            \n",
    "      lib=library([\"AI by Prince\",\"Higher maths Prince\",\"Yogic science by Prince\",\"bharahmachetanya by Prince\",\"Nirankar\",\"kriya yoga\"],[\"AI\",\"Math\",\" Yoga\"])\n",
    "      p=person()\n",
    "      var=False\n",
    "      while var!=True:\n",
    "            print(\"\"\" thapar library system\n",
    "                  1. display all categories\n",
    "                  2. display all books \n",
    "                  3. want to borrow  a book\n",
    "                  4. want to return a book\n",
    "                  5. Exit\n",
    "                  \"\"\")\n",
    "            num=int(input(\"Enter your Choice:\"))\n",
    "            if num==1:\n",
    "                        lib.displaycategories()\n",
    "            elif num==2:\n",
    "                        lib.displaybooks()\n",
    "            elif num==3:\n",
    "                        lib.borrowbook(p.getbook())\n",
    "            elif num==4:\n",
    "                        lib.addbookinlib(p.returnbook())\n",
    "            elif num==5:\n",
    "                   var=True"
   ]
  },
  {
   "cell_type": "code",
   "execution_count": 20,
   "metadata": {},
   "outputs": [
    {
     "output_type": "stream",
     "name": "stdout",
     "text": [
      " thapar library system\n",
      "                  1. display all categories\n",
      "                  2. display all books \n",
      "                  3. want to borrow  a book\n",
      "                  4. want to return a book\n",
      "                  5. Exit\n",
      "                  \n",
      " available categories are \n",
      "AI\n",
      "Math\n",
      " Yoga\n",
      " thapar library system\n",
      "                  1. display all categories\n",
      "                  2. display all books \n",
      "                  3. want to borrow  a book\n",
      "                  4. want to return a book\n",
      "                  5. Exit\n",
      "                  \n",
      " available books are \n",
      "AI by Prince\n",
      "Higher maths Prince\n",
      "Yogic science by Prince\n",
      "bharahmachetanya by Prince\n",
      "Nirankar\n",
      "kriya yoga\n",
      " thapar library system\n",
      "                  1. display all categories\n",
      "                  2. display all books \n",
      "                  3. want to borrow  a book\n",
      "                  4. want to return a book\n",
      "                  5. Exit\n",
      "                  \n",
      " successfully borrowed book Thank You\n",
      " thapar library system\n",
      "                  1. display all categories\n",
      "                  2. display all books \n",
      "                  3. want to borrow  a book\n",
      "                  4. want to return a book\n",
      "                  5. Exit\n",
      "                  \n",
      " book returned is  kriya yoga\n",
      " thanks for receiving our services \n",
      " thapar library system\n",
      "                  1. display all categories\n",
      "                  2. display all books \n",
      "                  3. want to borrow  a book\n",
      "                  4. want to return a book\n",
      "                  5. Exit\n",
      "                  \n"
     ]
    }
   ],
   "source": [
    "fun()   # borrowed and returned book are same ------->kriya yoga"
   ]
  },
  {
   "cell_type": "code",
   "execution_count": null,
   "metadata": {},
   "outputs": [],
   "source": []
  }
 ]
}